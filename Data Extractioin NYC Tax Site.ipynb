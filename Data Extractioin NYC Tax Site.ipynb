{
 "cells": [
  {
   "cell_type": "code",
   "execution_count": 1,
   "id": "025f9463",
   "metadata": {},
   "outputs": [],
   "source": [
    "import requests\n",
    "from bs4 import BeautifulSoup\n",
    "import fitz\n",
    "import pandas as pd"
   ]
  },
  {
   "cell_type": "code",
   "execution_count": 2,
   "id": "33615765",
   "metadata": {},
   "outputs": [],
   "source": [
    "def create_soup(url):\n",
    "    response = requests.get(url)\n",
    "    soup     = BeautifulSoup(response.content, 'html.parser')\n",
    "    return (soup)\n",
    "\n",
    "def download_pdf(url):\n",
    "    response = requests.get(url)\n",
    "    pdf      = open('pdf1.pdf', 'wb')\n",
    "    pdf.write(response.content)\n",
    "    pdf.close() \n",
    "    \n",
    "def text_from_pdf(file_name):\n",
    "    doc = fitz.open(file_name)\n",
    "    page = doc[0]   \n",
    "    text = page.get_text()        \n",
    "    return (text)"
   ]
  },
  {
   "cell_type": "code",
   "execution_count": 3,
   "id": "c33c5301",
   "metadata": {},
   "outputs": [
    {
     "name": "stdout",
     "output_type": "stream",
     "text": [
      "Total 12 pdf will be downloaded.\n",
      "1. pdf Downloaded\n",
      "2. pdf Downloaded\n",
      "3. pdf Downloaded\n",
      "4. pdf Downloaded\n",
      "5. pdf Downloaded\n",
      "6. pdf Downloaded\n",
      "7. pdf Downloaded\n",
      "8. pdf Downloaded\n",
      "9. pdf Downloaded\n",
      "10. pdf Downloaded\n",
      "11. pdf Downloaded\n",
      "12. pdf Downloaded\n"
     ]
    }
   ],
   "source": [
    "file = pd.read_excel('link_list.xlsx', index_col = False, header = None)\n",
    "\n",
    "all_data_list = []\n",
    "print('Total {} pdf will be downloaded.'.format(len(file)))\n",
    "\n",
    "for i in range(len(file)):\n",
    "    link = file.iloc[i,0]\n",
    "    \n",
    "    pdf  = download_pdf(link)\n",
    "    print ('{}. pdf Downloaded'.format(i+1))\n",
    "    text = text_from_pdf('pdf1.pdf')\n",
    "    \n",
    "    if text != 'No data found. \\n':\n",
    "        text_list = text.split('\\n')  \n",
    "        dic = {}\n",
    "        \n",
    "        dic['data1'] = text_list[12].split(':')[1].strip()   \n",
    "        if text_list[13].split()[0].strip() != 'Property':\n",
    "            dic['data2'] = text_list[13].strip()\n",
    "            dic['data3'] = text_list[14].split(':')[1].strip()\n",
    "            dic['data4'] = text_list[15].split(':')[1].strip()   \n",
    "        else:\n",
    "            dic['data2'] = ''\n",
    "            dic['data3'] = text_list[13].split(':')[1].strip()\n",
    "            dic['data4'] = text_list[14].split(':')[1].strip()      \n",
    "        dic['data5'] = text_list[9].strip()\n",
    "        dic['data6'] = text_list[10].strip()\n",
    "        dic['data7'] = text_list[11].strip()\n",
    "    \n",
    "        all_data_list.append(dic)\n",
    "    \n",
    "    else:\n",
    "        pass"
   ]
  },
  {
   "cell_type": "code",
   "execution_count": 4,
   "id": "248187ea",
   "metadata": {},
   "outputs": [
    {
     "name": "stdout",
     "output_type": "stream",
     "text": [
      "Process done.\n"
     ]
    }
   ],
   "source": [
    "df = pd.DataFrame(all_data_list)\n",
    "colum_names = ['1','2','3','4','5','6','7']\n",
    "df.columns  = colum_names\n",
    "df.to_excel('excel file.xlsx')\n",
    "\n",
    "print('Process done.')"
   ]
  },
  {
   "cell_type": "code",
   "execution_count": null,
   "id": "f6291566",
   "metadata": {},
   "outputs": [],
   "source": []
  }
 ],
 "metadata": {
  "kernelspec": {
   "display_name": "Python 3 (ipykernel)",
   "language": "python",
   "name": "python3"
  },
  "language_info": {
   "codemirror_mode": {
    "name": "ipython",
    "version": 3
   },
   "file_extension": ".py",
   "mimetype": "text/x-python",
   "name": "python",
   "nbconvert_exporter": "python",
   "pygments_lexer": "ipython3",
   "version": "3.9.12"
  }
 },
 "nbformat": 4,
 "nbformat_minor": 5
}
